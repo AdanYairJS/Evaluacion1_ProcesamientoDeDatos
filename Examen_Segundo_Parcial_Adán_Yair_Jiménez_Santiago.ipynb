{
  "nbformat": 4,
  "nbformat_minor": 0,
  "metadata": {
    "colab": {
      "provenance": []
    },
    "kernelspec": {
      "name": "python3",
      "display_name": "Python 3"
    },
    "language_info": {
      "name": "python"
    }
  },
  "cells": [
    {
      "cell_type": "code",
      "source": [
        "!pip install numpy\n",
        "import numpy as np"
      ],
      "metadata": {
        "colab": {
          "base_uri": "https://localhost:8080/"
        },
        "id": "HnnEa6F6xOyd",
        "outputId": "866ed90a-ea9a-494e-a126-4fd5d7c7dca2"
      },
      "execution_count": 1,
      "outputs": [
        {
          "output_type": "stream",
          "name": "stdout",
          "text": [
            "Requirement already satisfied: numpy in /usr/local/lib/python3.10/dist-packages (1.26.4)\n"
          ]
        }
      ]
    },
    {
      "cell_type": "markdown",
      "source": [
        "## Parte 1: Creación y manipulación de arrays (30 puntos)\n",
        "\n",
        "### Creación de un array\n",
        "Para cumplir con esta parte, generé un array de 10 elementos aleatorios enteros entre 1 y 100 utilizando `np.random.randint()`. Este método permite generar números enteros en un rango especificado, en este caso entre 1 y 100. Esto nos proporciona el array de entrada para las operaciones subsecuentes.\n",
        "\n"
      ],
      "metadata": {
        "id": "4pgCj7tHxTVp"
      }
    },
    {
      "cell_type": "code",
      "source": [
        "array_1 = np.random.randint(1, 101, size=10)\n",
        "print(\"Array generado:\", array_1)"
      ],
      "metadata": {
        "colab": {
          "base_uri": "https://localhost:8080/"
        },
        "id": "ETEqXumHxhw6",
        "outputId": "3d97ec90-7397-4ae0-c070-da14de02c953"
      },
      "execution_count": 2,
      "outputs": [
        {
          "output_type": "stream",
          "name": "stdout",
          "text": [
            "Array generado: [37 33 13 21 81 80  9  6 19  7]\n"
          ]
        }
      ]
    },
    {
      "cell_type": "markdown",
      "source": [
        "### Reshape del array\n",
        "A partir del array generado, cambié su forma para convertirlo en una matriz de 2x5 utilizando `reshape()`. Este método reorganiza los elementos sin alterarlos, ajustándolos en una estructura de filas y columnas.\n",
        "\n"
      ],
      "metadata": {
        "id": "QJBnJsN6xj9Y"
      }
    },
    {
      "cell_type": "code",
      "source": [
        "matriz_2x5 = array_1.reshape(2, 5)\n",
        "print(\"Matriz 2x5:\\n\", matriz_2x5)"
      ],
      "metadata": {
        "colab": {
          "base_uri": "https://localhost:8080/"
        },
        "id": "tWBMoKEyxk2z",
        "outputId": "e9cda54f-3bc2-4333-8d4d-76bddcfc824e"
      },
      "execution_count": 3,
      "outputs": [
        {
          "output_type": "stream",
          "name": "stdout",
          "text": [
            "Matriz 2x5:\n",
            " [[37 33 13 21 81]\n",
            " [80  9  6 19  7]]\n"
          ]
        }
      ]
    },
    {
      "cell_type": "markdown",
      "source": [
        "### Indexación y slicing\n",
        "Utilicé la indexación y el slicing para extraer la primera fila y la última columna de la matriz. Para la primera fila, seleccioné la fila con índice 0, y para la última columna, seleccioné todas las filas y la columna con índice -1. Este tipo de manipulación es común en NumPy para acceder a secciones específicas de una matriz."
      ],
      "metadata": {
        "id": "aZs2dSdjxnFQ"
      }
    },
    {
      "cell_type": "code",
      "source": [
        "primera_fila = matriz_2x5[0, :]\n",
        "ultima_columna = matriz_2x5[:, -1]\n",
        "print(\"Primera fila:\", primera_fila)\n",
        "print(\"Última columna:\", ultima_columna)"
      ],
      "metadata": {
        "colab": {
          "base_uri": "https://localhost:8080/"
        },
        "id": "XYjuyhKtxphD",
        "outputId": "9a45ac1f-c079-4847-8497-d1549cbf1e88"
      },
      "execution_count": 4,
      "outputs": [
        {
          "output_type": "stream",
          "name": "stdout",
          "text": [
            "Primera fila: [37 33 13 21 81]\n",
            "Última columna: [81  7]\n"
          ]
        }
      ]
    },
    {
      "cell_type": "markdown",
      "source": [
        "### Modificación de la matriz\n",
        "Para modificar la matriz, asigné ceros a todos los elementos de la segunda fila (fila con índice 1). Este tipo de operación es útil para actualizar o resetear valores en una matriz. En este caso, toda la fila fue modificada con el valor 0."
      ],
      "metadata": {
        "id": "I8zdiPb5xsGx"
      }
    },
    {
      "cell_type": "code",
      "source": [
        "matriz_2x5[1, :] = 0\n",
        "print(\"Matriz modificada:\\n\", matriz_2x5)"
      ],
      "metadata": {
        "colab": {
          "base_uri": "https://localhost:8080/"
        },
        "id": "IuvX2Axpxs3N",
        "outputId": "538e3be4-30dc-4816-9fc3-8b2b62278e50"
      },
      "execution_count": 5,
      "outputs": [
        {
          "output_type": "stream",
          "name": "stdout",
          "text": [
            "Matriz modificada:\n",
            " [[37 33 13 21 81]\n",
            " [ 0  0  0  0  0]]\n"
          ]
        }
      ]
    },
    {
      "cell_type": "markdown",
      "source": [
        "## Parte 2: Operaciones básicas con NumPy (30 puntos)\n",
        "\n",
        "### Operaciones aritméticas\n",
        "Para esta sección, generé dos arrays de 5 elementos aleatorios entre 1 y 50 usando `np.random.randint()`. Luego realicé dos operaciones: sumé los arrays con el operador `+`, y los multipliqué entre sí con el operador `*`. Estas operaciones son muy directas en NumPy y permiten trabajar con datos de manera rápida y eficiente."
      ],
      "metadata": {
        "id": "4rgpoffOxunQ"
      }
    },
    {
      "cell_type": "code",
      "source": [
        "array_a = np.random.randint(1, 51, size=5)\n",
        "array_b = np.random.randint(1, 51, size=5)\n",
        "suma = array_a + array_b\n",
        "multiplicacion = array_a * array_b\n",
        "print(\"Suma de los arrays:\", suma)\n",
        "print(\"Multiplicación de los arrays:\", multiplicacion)"
      ],
      "metadata": {
        "colab": {
          "base_uri": "https://localhost:8080/"
        },
        "id": "zWgqAubtxvze",
        "outputId": "3c40256c-8169-4a53-e972-b5ebfe036262"
      },
      "execution_count": 6,
      "outputs": [
        {
          "output_type": "stream",
          "name": "stdout",
          "text": [
            "Suma de los arrays: [24 67 49 27 13]\n",
            "Multiplicación de los arrays: [ 80 990 544  26  22]\n"
          ]
        }
      ]
    },
    {
      "cell_type": "markdown",
      "source": [
        "### Promedio y desviación estándar\n",
        "Para calcular el promedio y la desviación estándar de los resultados obtenidos en la suma y la multiplicación, utilicé `np.mean()` y `np.std()`. Estas funciones nos permiten obtener estadísticas descriptivas básicas, que son esenciales para analizar distribuciones de datos."
      ],
      "metadata": {
        "id": "fKRcsz_mxxCH"
      }
    },
    {
      "cell_type": "code",
      "source": [
        "promedio_suma = np.mean(suma)\n",
        "desviacion_suma = np.std(suma)\n",
        "promedio_multiplicacion = np.mean(multiplicacion)\n",
        "desviacion_multiplicacion = np.std(multiplicacion)\n",
        "print(\"Promedio de la suma:\", promedio_suma)\n",
        "print(\"Desviación estándar de la suma:\", desviacion_suma)\n",
        "print(\"Promedio de la multiplicación:\", promedio_multiplicacion)\n",
        "print(\"Desviación estándar de la multiplicación:\", desviacion_multiplicacion)"
      ],
      "metadata": {
        "colab": {
          "base_uri": "https://localhost:8080/"
        },
        "id": "txtrsNmXx0lv",
        "outputId": "b41f443a-7c21-47f9-fab8-f1a35bdd8c18"
      },
      "execution_count": 7,
      "outputs": [
        {
          "output_type": "stream",
          "name": "stdout",
          "text": [
            "Promedio de la suma: 36.0\n",
            "Desviación estándar de la suma: 19.411336893681487\n",
            "Promedio de la multiplicación: 332.4\n",
            "Desviación estándar de la multiplicación: 382.3995815897293\n"
          ]
        }
      ]
    },
    {
      "cell_type": "markdown",
      "source": [
        "### Condiciones lógicas\n",
        "Para esta parte, generé un array de 20 números aleatorios entre 0 y 1 con `np.random.rand()`. Luego, utilizando condiciones lógicas, reemplacé los valores menores a 0.5 con 0 y los mayores o iguales a 0.5 con 1. Esto es útil para realizar filtrados o categorizaciones basadas en rangos de valores."
      ],
      "metadata": {
        "id": "hvWPyEQ2x2Cq"
      }
    },
    {
      "cell_type": "code",
      "source": [
        "array_condicional = np.random.rand(20)\n",
        "array_condicional[array_condicional < 0.5] = 0\n",
        "array_condicional[array_condicional >= 0.5] = 1\n",
        "print(\"Array modificado con condiciones lógicas:\", array_condicional)"
      ],
      "metadata": {
        "colab": {
          "base_uri": "https://localhost:8080/"
        },
        "id": "ZbQ1TN53x3YX",
        "outputId": "ad975df6-a02e-47dd-f7ac-ed0f7995c82a"
      },
      "execution_count": 8,
      "outputs": [
        {
          "output_type": "stream",
          "name": "stdout",
          "text": [
            "Array modificado con condiciones lógicas: [1. 1. 0. 1. 1. 1. 1. 0. 0. 0. 0. 1. 0. 0. 1. 1. 0. 0. 0. 0.]\n"
          ]
        }
      ]
    },
    {
      "cell_type": "markdown",
      "source": [
        "### Producto escalar\n",
        "Para el producto escalar, creé dos matrices de 3x3 con números aleatorios entre 1 y 10 usando `np.random.randint()`. Luego, utilicé `np.dot()` para calcular el producto escalar entre ambas matrices. Esta operación es fundamental en álgebra lineal y se utiliza en muchos ámbitos como gráficos 3D, transformaciones y redes neuronales."
      ],
      "metadata": {
        "id": "SriWaeWex6TY"
      }
    },
    {
      "cell_type": "code",
      "source": [
        "matriz1 = np.random.randint(1, 11, size=(3, 3))\n",
        "matriz2 = np.random.randint(1, 11, size=(3, 3))\n",
        "producto_escalar = np.dot(matriz1, matriz2)\n",
        "print(\"Producto escalar:\\n\", producto_escalar)"
      ],
      "metadata": {
        "colab": {
          "base_uri": "https://localhost:8080/"
        },
        "id": "Gb_KBEysx78q",
        "outputId": "7fdd47e5-5b14-4d24-b673-9b2e1c42e155"
      },
      "execution_count": 9,
      "outputs": [
        {
          "output_type": "stream",
          "name": "stdout",
          "text": [
            "Producto escalar:\n",
            " [[ 42 220 178]\n",
            " [ 14  80  66]\n",
            " [ 28 180 152]]\n"
          ]
        }
      ]
    },
    {
      "cell_type": "markdown",
      "source": [
        "## Parte 3: Análisis de datos con NumPy (40 puntos)\n",
        "\n",
        "### Matriz de datos\n",
        "Para crear la matriz de datos, generé una matriz de 5 filas y 4 columnas con números aleatorios entre 1 y 20. Cada fila representa una persona y cada columna corresponde a una medición diferente (como altura, peso, etc.). Este tipo de matriz es útil para almacenar conjuntos de datos multivariados y se puede usar en análisis estadísticos o machine learning.\n"
      ],
      "metadata": {
        "id": "4foXiYgIyAgo"
      }
    },
    {
      "cell_type": "code",
      "source": [
        "matriz_datos = np.random.randint(1, 21, size=(5, 4))\n",
        "print(\"Matriz de datos:\\n\", matriz_datos)"
      ],
      "metadata": {
        "colab": {
          "base_uri": "https://localhost:8080/"
        },
        "id": "OovV8XgNx-Nk",
        "outputId": "9ef7c0db-d246-4351-a146-d91c3e507d9f"
      },
      "execution_count": 10,
      "outputs": [
        {
          "output_type": "stream",
          "name": "stdout",
          "text": [
            "Matriz de datos:\n",
            " [[ 6 17  7 15]\n",
            " [15  7 10  9]\n",
            " [ 1 18 15 17]\n",
            " [ 8  2  5  3]\n",
            " [ 7  8 16  4]]\n"
          ]
        }
      ]
    },
    {
      "cell_type": "markdown",
      "source": [
        "### Estadísticas de las mediciones\n",
        "Para obtener la media de cada columna, utilicé `np.mean()` con `axis=0`, lo que indica que el promedio se debe calcular a lo largo de las filas, es decir, para cada columna. Esto es útil para entender las tendencias de cada variable medida."
      ],
      "metadata": {
        "id": "SEMAMyo2yClw"
      }
    },
    {
      "cell_type": "code",
      "source": [
        "media_columnas = np.mean(matriz_datos, axis=0)\n",
        "print(\"Media de cada columna:\", media_columnas)"
      ],
      "metadata": {
        "colab": {
          "base_uri": "https://localhost:8080/"
        },
        "id": "w5g2dbskyDKl",
        "outputId": "c3f6ade2-303e-4aac-98c7-c7aa0e014d78"
      },
      "execution_count": 11,
      "outputs": [
        {
          "output_type": "stream",
          "name": "stdout",
          "text": [
            "Media de cada columna: [ 7.4 10.4 10.6  9.6]\n"
          ]
        }
      ]
    },
    {
      "cell_type": "markdown",
      "source": [
        "### Valores máximo y mínimo de cada fila\n",
        "Utilicé `np.max()` y `np.min()` con `axis=1` para encontrar el valor máximo y mínimo de cada fila, que representa a cada persona. Esto puede ser útil para identificar los extremos de cada individuo en los datos registrados."
      ],
      "metadata": {
        "id": "XMeK-weFyERi"
      }
    },
    {
      "cell_type": "code",
      "source": [
        "maximos_filas = np.max(matriz_datos, axis=1)\n",
        "minimos_filas = np.min(matriz_datos, axis=1)\n",
        "print(\"Máximos de cada fila:\", maximos_filas)\n",
        "print(\"Mínimos de cada fila:\", minimos_filas)"
      ],
      "metadata": {
        "colab": {
          "base_uri": "https://localhost:8080/"
        },
        "id": "G2M_tmd7yGdW",
        "outputId": "8ae33f07-895d-46ba-8499-1469175943ff"
      },
      "execution_count": 12,
      "outputs": [
        {
          "output_type": "stream",
          "name": "stdout",
          "text": [
            "Máximos de cada fila: [17 15 18  8 16]\n",
            "Mínimos de cada fila: [6 7 1 2 4]\n"
          ]
        }
      ]
    },
    {
      "cell_type": "markdown",
      "source": [
        "### Ordenamiento de las filas según la segunda columna\n",
        "Finalmente, ordené las filas de la matriz según los valores de la segunda columna (representando, por ejemplo, el peso de cada persona). Utilicé `argsort()` para obtener los índices de las filas en el orden de la segunda columna y así reordenar la matriz. Esta técnica es útil cuando es necesario clasificar datos en función de una variable específica."
      ],
      "metadata": {
        "id": "uRdyuGJRyIB3"
      }
    },
    {
      "cell_type": "code",
      "source": [
        "matriz_ordenada = matriz_datos[matriz_datos[:, 1].argsort()]\n",
        "print(\"Matriz ordenada por la segunda columna:\\n\", matriz_ordenada)"
      ],
      "metadata": {
        "colab": {
          "base_uri": "https://localhost:8080/"
        },
        "id": "sMrTsfv_yJCA",
        "outputId": "5790e1f9-6326-4ec3-b49d-fea950b89f47"
      },
      "execution_count": 13,
      "outputs": [
        {
          "output_type": "stream",
          "name": "stdout",
          "text": [
            "Matriz ordenada por la segunda columna:\n",
            " [[ 8  2  5  3]\n",
            " [15  7 10  9]\n",
            " [ 7  8 16  4]\n",
            " [ 6 17  7 15]\n",
            " [ 1 18 15 17]]\n"
          ]
        }
      ]
    }
  ]
}